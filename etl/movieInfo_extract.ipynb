{
 "cells": [
  {
   "cell_type": "markdown",
   "id": "4eaf933a",
   "metadata": {},
   "source": [
    "#### 모듈 설치"
   ]
  },
  {
   "cell_type": "code",
   "execution_count": null,
   "id": "85003f1d",
   "metadata": {},
   "outputs": [],
   "source": [
    "%pip install python-dotenv requests boto3 psycopg2-binary"
   ]
  },
  {
   "cell_type": "markdown",
   "id": "454d7577",
   "metadata": {},
   "source": [
    "#### 환경변수 로드 및 저장할 폴더 준비"
   ]
  },
  {
   "cell_type": "code",
   "execution_count": 2,
   "id": "cd5a2842",
   "metadata": {},
   "outputs": [],
   "source": [
    "import os\n",
    "from dotenv import load_dotenv\n",
    "from pathlib import Path\n",
    "\n",
    "# 환경 변수 로드\n",
    "load_dotenv()\n",
    "\n",
    "API_KEY = os.getenv(\"KOBIS_API_KEY\")\n",
    "\n",
    "AWS_ACCESS_KEY_ID = os.getenv(\"AWS_ACCESS_KEY_ID\")\n",
    "AWS_SECRET_ACCESS_KEY = os.getenv(\"AWS_SECRET_ACCESS_KEY\")\n",
    "AWS_REGION = os.getenv(\"AWS_REGION\")\n",
    "S3_BUCKET_NAME = os.getenv(\"S3_BUCKET_NAME\")\n",
    "\n",
    "REDSHIFT_HOST = os.getenv(\"REDSHIFT_HOST\")\n",
    "REDSHIFT_PORT = os.getenv(\"REDSHIFT_PORT\")\n",
    "REDSHIFT_DB = os.getenv(\"REDSHIFT_DB\")\n",
    "REDSHIFT_USER = os.getenv(\"REDSHIFT_USER\")\n",
    "REDSHIFT_PASSWORD = os.getenv(\"REDSHIFT_PASSWORD\")\n",
    "IAM_ROLE_ARN = os.getenv(\"IAM_ROLE_ARN\")\n",
    "\n",
    "# 저장할 폴더 준비\n",
    "project_folder = project_folder = Path.cwd().parent\n",
    "raw_data_dir = project_folder / \"raw_data\" / \"movieInfo\"    # 영화 상세 정보\n",
    "raw_data_dir.mkdir(exist_ok=True)"
   ]
  },
  {
   "cell_type": "markdown",
   "id": "9f8ed878",
   "metadata": {},
   "source": [
    "#### 데이터 수집"
   ]
  },
  {
   "cell_type": "code",
   "execution_count": 7,
   "id": "6d676a92",
   "metadata": {},
   "outputs": [
    {
     "name": "stdout",
     "output_type": "stream",
     "text": [
      "{20256526, 20040590, 20242964, 20241941, 20256149, 20243864, 20256281, 19950366, 20256034, 20254501, 20257586, 20256185, 20257083, 20256701, 20256702, 20245055, 20246333, 20256962, 20254275, 20257095, 20256071, 20256202, 20247245, 20240206, 20233039, 20257229, 20161872, 20030047, 20256864, 20256741, 20020328, 20253289, 20243561, 20245485, 20231024, 20249072, 20210546, 20256757, 20228988, 20244606}\n"
     ]
    }
   ],
   "source": [
    "import glob\n",
    "import json\n",
    "from pathlib import Path\n",
    "\n",
    "project_folder = Path.cwd().parent\n",
    "folder_path = project_folder / \"raw_data\" / \"boxoffice\"    # 일별 박스오피스\n",
    "file_pattern = str(folder_path / \"dailyBoxOffice_*.json\")\n",
    "json_files = glob.glob(file_pattern)\n",
    "\n",
    "if not json_files:\n",
    "    print(f\"경고: {file_pattern} 패턴의 파일을 찾을 수 없습니다.\")\n",
    "\n",
    "distinct_movie_cds = set()\n",
    "\n",
    "for file_path in json_files:\n",
    "    try:\n",
    "        with open(file_path, 'r', encoding='utf-8') as f:\n",
    "            for line in f:\n",
    "                if line.strip(): # 빈 줄이 아닌 경우에만 처리\n",
    "                    data = json.loads(line)\n",
    "                    distinct_movie_cds.add(data.get(\"movieCd\"))\n",
    "    except Exception as e:\n",
    "        print(f\"파일 {file_path} 처리 중 오류 발생: {e}\")\n",
    "\n",
    "print(distinct_movie_cds)"
   ]
  },
  {
   "cell_type": "code",
   "execution_count": null,
   "id": "677845e4",
   "metadata": {},
   "outputs": [
    {
     "name": "stdout",
     "output_type": "stream",
     "text": [
      "[1] movieInfo_20256526 저장 완료 (JSON Lines 형식)\n",
      "[2] movieInfo_20040590 저장 완료 (JSON Lines 형식)\n",
      "[3] movieInfo_20242964 저장 완료 (JSON Lines 형식)\n",
      "[4] movieInfo_20241941 저장 완료 (JSON Lines 형식)\n",
      "[5] movieInfo_20256149 저장 완료 (JSON Lines 형식)\n",
      "[6] movieInfo_20243864 저장 완료 (JSON Lines 형식)\n",
      "[7] movieInfo_20256281 저장 완료 (JSON Lines 형식)\n",
      "[8] movieInfo_19950366 저장 완료 (JSON Lines 형식)\n",
      "[9] movieInfo_20256034 저장 완료 (JSON Lines 형식)\n",
      "[10] movieInfo_20254501 저장 완료 (JSON Lines 형식)\n",
      "[11] movieInfo_20257586 저장 완료 (JSON Lines 형식)\n",
      "[12] movieInfo_20256185 저장 완료 (JSON Lines 형식)\n",
      "[13] movieInfo_20257083 저장 완료 (JSON Lines 형식)\n",
      "[14] movieInfo_20256701 저장 완료 (JSON Lines 형식)\n",
      "[15] movieInfo_20256702 저장 완료 (JSON Lines 형식)\n",
      "[16] movieInfo_20245055 저장 완료 (JSON Lines 형식)\n",
      "[17] movieInfo_20246333 저장 완료 (JSON Lines 형식)\n",
      "[18] movieInfo_20256962 저장 완료 (JSON Lines 형식)\n",
      "[19] movieInfo_20254275 저장 완료 (JSON Lines 형식)\n",
      "[20] movieInfo_20257095 저장 완료 (JSON Lines 형식)\n",
      "[21] movieInfo_20256071 저장 완료 (JSON Lines 형식)\n",
      "[22] movieInfo_20256202 저장 완료 (JSON Lines 형식)\n",
      "[23] movieInfo_20247245 저장 완료 (JSON Lines 형식)\n",
      "[24] movieInfo_20240206 저장 완료 (JSON Lines 형식)\n",
      "[25] movieInfo_20233039 저장 완료 (JSON Lines 형식)\n",
      "[26] movieInfo_20257229 저장 완료 (JSON Lines 형식)\n",
      "[27] movieInfo_20161872 저장 완료 (JSON Lines 형식)\n",
      "[28] movieInfo_20030047 저장 완료 (JSON Lines 형식)\n",
      "[29] movieInfo_20256864 저장 완료 (JSON Lines 형식)\n",
      "[30] movieInfo_20256741 저장 완료 (JSON Lines 형식)\n",
      "[31] movieInfo_20020328 저장 완료 (JSON Lines 형식)\n",
      "[32] movieInfo_20253289 저장 완료 (JSON Lines 형식)\n",
      "[33] movieInfo_20243561 저장 완료 (JSON Lines 형식)\n",
      "[34] movieInfo_20245485 저장 완료 (JSON Lines 형식)\n",
      "[35] movieInfo_20231024 저장 완료 (JSON Lines 형식)\n",
      "[36] movieInfo_20249072 저장 완료 (JSON Lines 형식)\n",
      "[37] movieInfo_20210546 저장 완료 (JSON Lines 형식)\n",
      "[38] movieInfo_20256757 저장 완료 (JSON Lines 형식)\n",
      "[39] movieInfo_20228988 저장 완료 (JSON Lines 형식)\n",
      "[40] movieInfo_20244606 저장 완료 (JSON Lines 형식)\n"
     ]
    }
   ],
   "source": [
    "import requests\n",
    "import json\n",
    "import time # API 호출 간격을 위한 time 모듈 추가\n",
    "from datetime import datetime\n",
    "from pathlib import Path # Path 객체 사용을 가정하여 추가\n",
    "\n",
    "\n",
    "# 데이터 수집\n",
    "base_url = \"http://www.kobis.or.kr/kobisopenapi/webservice/rest/movie/searchMovieInfo.json\" # 영화 상세 정보\n",
    "\n",
    "for i, movieCd in enumerate(distinct_movie_cds):\n",
    "    params = {\"key\": API_KEY, \"movieCd\": movieCd}\n",
    "\n",
    "    try:\n",
    "        res = requests.get(base_url, params=params, timeout=10)\n",
    "        res.raise_for_status()\n",
    "        data = res.json()\n",
    "\n",
    "        movie_info = data['movieInfoResult']['movieInfo']\n",
    "\n",
    "        genres_list = movie_info.get('genres', [])\n",
    "        genre_names = [g['genreNm'] for g in genres_list if g.get('genreNm')]\n",
    "        genre = genre_names[0] if genre_names else \"\"\n",
    "\n",
    "        open_dt_raw = movie_info.get('openDt', '')\n",
    "        open_dt_formatted = None\n",
    "        if open_dt_raw and len(open_dt_raw) == 8:\n",
    "            try:\n",
    "                # '2025901' -> '2025-09-01'로 변환\n",
    "                open_dt_formatted = datetime.strptime(open_dt_raw, '%Y%m%d').strftime('%Y-%m-%d')\n",
    "            except ValueError:\n",
    "                pass # 변환 실패 시 None 유지\n",
    "\n",
    "        # Redshift 테이블 스키마에 맞게 데이터 타입 변환 및 가공\n",
    "        movie_data = {\n",
    "            \"movieCd\": int(movie_info.get(\"movieCd\")),  # INT\n",
    "            \"movieNm\": movie_info.get(\"movieNm\"),       # VARCHAR\n",
    "            \"openDt\": open_dt_formatted,                # DATE (YYYY-MM-DD 형식 문자열)\n",
    "            \"genre\": genre                              # VARCHAR (장르 여러개일시 첫번째 값)\n",
    "        }\n",
    "\n",
    "        file_path = raw_data_dir / f\"movieInfo_{movieCd}.json\"\n",
    "        with open(file_path, \"w\", encoding=\"utf-8\") as f:\n",
    "            json_line = json.dumps(movie_data, ensure_ascii=False)\n",
    "            f.write(json_line + '\\n') \n",
    "\n",
    "        print(f\"[{i+1}] movieInfo_{movieCd} 저장 완료 (JSON Lines 형식)\")\n",
    "\n",
    "    except Exception as e:\n",
    "        print(f\"movieInfo_{movieCd} 데이터 수집 실패: {e}\")"
   ]
  },
  {
   "cell_type": "markdown",
   "id": "c0eff97b",
   "metadata": {},
   "source": [
    "#### S3 에 업로드"
   ]
  },
  {
   "cell_type": "code",
   "execution_count": 5,
   "id": "677c1499",
   "metadata": {},
   "outputs": [
    {
     "name": "stdout",
     "output_type": "stream",
     "text": [
      "/Users/kang/Team4_4Ward/BI-Dashboard/raw_data/movieInfo\n"
     ]
    }
   ],
   "source": [
    "print(raw_data_dir)"
   ]
  },
  {
   "cell_type": "code",
   "execution_count": 6,
   "id": "9a9f93cf",
   "metadata": {},
   "outputs": [
    {
     "name": "stdout",
     "output_type": "stream",
     "text": [
      "[success] S3 업로드 완료: raw_data/movieInfo/movieInfo_20210546.json\n",
      "[success] S3 업로드 완료: raw_data/movieInfo/movieInfo_20256202.json\n",
      "[success] S3 업로드 완료: raw_data/movieInfo/movieInfo_20256701.json\n",
      "[success] S3 업로드 완료: raw_data/movieInfo/movieInfo_20256185.json\n",
      "[success] S3 업로드 완료: raw_data/movieInfo/movieInfo_20240206.json\n",
      "[success] S3 업로드 완료: raw_data/movieInfo/movieInfo_20256281.json\n",
      "[success] S3 업로드 완료: raw_data/movieInfo/movieInfo_20256757.json\n",
      "[success] S3 업로드 완료: raw_data/movieInfo/movieInfo_20256741.json\n",
      "[success] S3 업로드 완료: raw_data/movieInfo/movieInfo_20256864.json\n",
      "[success] S3 업로드 완료: raw_data/movieInfo/movieInfo_20256034.json\n",
      "[success] S3 업로드 완료: raw_data/movieInfo/movieInfo_20257229.json\n",
      "[success] S3 업로드 완료: raw_data/movieInfo/movieInfo_20254501.json\n",
      "[success] S3 업로드 완료: raw_data/movieInfo/movieInfo_20256526.json\n",
      "[success] S3 업로드 완료: raw_data/movieInfo/movieInfo_20253289.json\n",
      "[success] S3 업로드 완료: raw_data/movieInfo/movieInfo_19950366.json\n",
      "[success] S3 업로드 완료: raw_data/movieInfo/movieInfo_20254275.json\n",
      "[success] S3 업로드 완료: raw_data/movieInfo/movieInfo_20242964.json\n",
      "[success] S3 업로드 완료: raw_data/movieInfo/movieInfo_20245055.json\n",
      "[success] S3 업로드 완료: raw_data/movieInfo/movieInfo_20247245.json\n",
      "[success] S3 업로드 완료: raw_data/movieInfo/movieInfo_20241941.json\n",
      "[success] S3 업로드 완료: raw_data/movieInfo/movieInfo_20244606.json\n",
      "[success] S3 업로드 완료: raw_data/movieInfo/movieInfo_20233039.json\n",
      "[success] S3 업로드 완료: raw_data/movieInfo/movieInfo_20020328.json\n",
      "[success] S3 업로드 완료: raw_data/movieInfo/movieInfo_20231024.json\n",
      "[success] S3 업로드 완료: raw_data/movieInfo/movieInfo_20256071.json\n",
      "[success] S3 업로드 완료: raw_data/movieInfo/movieInfo_20040590.json\n",
      "[success] S3 업로드 완료: raw_data/movieInfo/movieInfo_20245485.json\n",
      "[success] S3 업로드 완료: raw_data/movieInfo/movieInfo_20257586.json\n",
      "[success] S3 업로드 완료: raw_data/movieInfo/movieInfo_20228988.json\n",
      "[success] S3 업로드 완료: raw_data/movieInfo/movieInfo_20243864.json\n",
      "[success] S3 업로드 완료: raw_data/movieInfo/movieInfo_20161872.json\n",
      "[success] S3 업로드 완료: raw_data/movieInfo/movieInfo_20256702.json\n",
      "[success] S3 업로드 완료: raw_data/movieInfo/movieInfo_20257095.json\n",
      "[success] S3 업로드 완료: raw_data/movieInfo/movieInfo_20249072.json\n",
      "[success] S3 업로드 완료: raw_data/movieInfo/movieInfo_20257083.json\n",
      "[success] S3 업로드 완료: raw_data/movieInfo/movieInfo_20256962.json\n",
      "[success] S3 업로드 완료: raw_data/movieInfo/movieInfo_20030047.json\n",
      "[success] S3 업로드 완료: raw_data/movieInfo/movieInfo_20256149.json\n",
      "[success] S3 업로드 완료: raw_data/movieInfo/movieInfo_20246333.json\n",
      "[success] S3 업로드 완료: raw_data/movieInfo/movieInfo_20243561.json\n"
     ]
    }
   ],
   "source": [
    "import boto3\n",
    "\n",
    "# S3 업로드\n",
    "if any(raw_data_dir.glob(\"*.json\")):\n",
    "    s3 = boto3.client(\n",
    "        \"s3\",\n",
    "        aws_access_key_id=AWS_ACCESS_KEY_ID,\n",
    "        aws_secret_access_key=AWS_SECRET_ACCESS_KEY,\n",
    "        region_name=AWS_REGION\n",
    "    )\n",
    "\n",
    "    for file in raw_data_dir.glob(\"movieInfo_*.json\"):\n",
    "        file_name = f\"raw_data/movieInfo/{file.name}\"   # 영화 상세 정보\n",
    "        try:\n",
    "            s3.upload_file(str(file), S3_BUCKET_NAME, file_name)\n",
    "            print(f\"[success] S3 업로드 완료: {file_name}\")\n",
    "        except Exception as e:\n",
    "            print(f\"[fail] S3 업로드 실패 ({file_name}): {e}\")\n",
    "else:\n",
    "    print(\"[error] 업로드할 파일이 없습니다.\")"
   ]
  }
 ],
 "metadata": {
  "kernelspec": {
   "display_name": ".venv",
   "language": "python",
   "name": "python3"
  },
  "language_info": {
   "codemirror_mode": {
    "name": "ipython",
    "version": 3
   },
   "file_extension": ".py",
   "mimetype": "text/x-python",
   "name": "python",
   "nbconvert_exporter": "python",
   "pygments_lexer": "ipython3",
   "version": "3.13.5"
  }
 },
 "nbformat": 4,
 "nbformat_minor": 5
}

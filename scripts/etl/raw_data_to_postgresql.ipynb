{
 "cells": [
  {
   "cell_type": "markdown",
   "id": "77123d66",
   "metadata": {},
   "source": [
    "### 모듈 설치"
   ]
  },
  {
   "cell_type": "code",
   "execution_count": 1,
   "id": "7b2f9172",
   "metadata": {},
   "outputs": [
    {
     "name": "stdout",
     "output_type": "stream",
     "text": [
      "Requirement already satisfied: psycopg2-binary in /Users/kang/4Ward/BI-Dashboard/.venv/lib/python3.13/site-packages (2.9.11)\n",
      "Requirement already satisfied: dotenv in /Users/kang/4Ward/BI-Dashboard/.venv/lib/python3.13/site-packages (0.9.9)\n",
      "Requirement already satisfied: python-dotenv in /Users/kang/4Ward/BI-Dashboard/.venv/lib/python3.13/site-packages (from dotenv) (1.2.1)\n",
      "Note: you may need to restart the kernel to use updated packages.\n"
     ]
    }
   ],
   "source": [
    "%pip install psycopg2-binary dotenv"
   ]
  },
  {
   "cell_type": "markdown",
   "id": "6f3decd9",
   "metadata": {},
   "source": [
    "#### postgresql 연결"
   ]
  },
  {
   "cell_type": "code",
   "execution_count": 3,
   "id": "d512ac41",
   "metadata": {},
   "outputs": [
    {
     "name": "stdout",
     "output_type": "stream",
     "text": [
      "localhost dev\n"
     ]
    }
   ],
   "source": [
    "import os\n",
    "from dotenv import load_dotenv\n",
    "from pathlib import Path\n",
    "\n",
    "# 환경 변수 로드\n",
    "load_dotenv()\n",
    "\n",
    "Postgre_HOST = os.getenv(\"Postgre_HOST\")\n",
    "Postgre_PORT = os.getenv(\"Postgre_PORT\")\n",
    "Postgre_DB = os.getenv(\"Postgre_DB\")\n",
    "Postgre_USER = os.getenv(\"Postgre_USER\")\n",
    "Postgre_PASSWORD = os.getenv(\"Postgre_PASSWORD\")\n",
    "\n",
    "print(Postgre_HOST, Postgre_DB)"
   ]
  },
  {
   "cell_type": "markdown",
   "id": "46c6bb54",
   "metadata": {},
   "source": [
    "#### raw_data 에 boxoffice 테이블 만들고 json 밀어넣기"
   ]
  },
  {
   "cell_type": "code",
   "execution_count": 4,
   "id": "f2e82bce",
   "metadata": {},
   "outputs": [
    {
     "name": "stdout",
     "output_type": "stream",
     "text": [
      "table create success\n"
     ]
    }
   ],
   "source": [
    "import psycopg2\n",
    "\n",
    "try:\n",
    "    conn = psycopg2.connect(host=Postgre_HOST, dbname=Postgre_DB, user=Postgre_USER, password=Postgre_PASSWORD)\n",
    "    cursor = conn.cursor()\n",
    "    cursor.execute(\"DROP TABLE IF EXISTS raw_data.boxoffice\")\n",
    "\n",
    "    sql = '''\n",
    "    CREATE TABLE raw_data.boxoffice (\n",
    "        movieCd     BIGINT,         -- 영화 코드\n",
    "        showRange   DATE,           -- 상영 날짜\n",
    "        rank        INT,            -- 순위\n",
    "        salesAmt    BIGINT,         -- 매출액\n",
    "        salesShare  DOUBLE PRECISION, -- 매출 점유율 (퍼센트, 소수점 가능)\n",
    "        salesInten  BIGINT,         -- 매출 증감\n",
    "        salesChange DOUBLE PRECISION, -- 매출 증감률\n",
    "        salesAcc    BIGINT,         -- 누적 매출\n",
    "        audiCnt     BIGINT,         -- 관객 수\n",
    "        audiInten   BIGINT,         -- 관객 증감\n",
    "        audiChange  DOUBLE PRECISION, -- 관객 증감률\n",
    "        audiAcc     BIGINT,         -- 누적 관객\n",
    "        scrnCnt     INT,            -- 상영 스크린 수\n",
    "        showCnt     INT             -- 상영 횟수\n",
    "    );\n",
    "    '''\n",
    "\n",
    "    cursor.execute(sql)\n",
    "    print('table create success')\n",
    "    conn.commit()\n",
    "\n",
    "except Exception as e:\n",
    "    print(\"fail:\", e)\n",
    "\n",
    "finally:\n",
    "    conn.close()"
   ]
  },
  {
   "cell_type": "code",
   "execution_count": 5,
   "id": "80221b96",
   "metadata": {},
   "outputs": [
    {
     "name": "stdout",
     "output_type": "stream",
     "text": [
      "Processing /Users/kang/4Ward/BI-Dashboard/raw_data/boxoffice/dailyBoxOffice_20250927.json ...\n",
      "Processing /Users/kang/4Ward/BI-Dashboard/raw_data/boxoffice/dailyBoxOffice_20250911.json ...\n",
      "Processing /Users/kang/4Ward/BI-Dashboard/raw_data/boxoffice/dailyBoxOffice_20250907.json ...\n",
      "Processing /Users/kang/4Ward/BI-Dashboard/raw_data/boxoffice/dailyBoxOffice_20250906.json ...\n",
      "Processing /Users/kang/4Ward/BI-Dashboard/raw_data/boxoffice/dailyBoxOffice_20250910.json ...\n",
      "Processing /Users/kang/4Ward/BI-Dashboard/raw_data/boxoffice/dailyBoxOffice_20250930.json ...\n",
      "Processing /Users/kang/4Ward/BI-Dashboard/raw_data/boxoffice/dailyBoxOffice_20250926.json ...\n",
      "Processing /Users/kang/4Ward/BI-Dashboard/raw_data/boxoffice/dailyBoxOffice_20250917.json ...\n",
      "Processing /Users/kang/4Ward/BI-Dashboard/raw_data/boxoffice/dailyBoxOffice_20250901.json ...\n",
      "Processing /Users/kang/4Ward/BI-Dashboard/raw_data/boxoffice/dailyBoxOffice_20250921.json ...\n",
      "Processing /Users/kang/4Ward/BI-Dashboard/raw_data/boxoffice/dailyBoxOffice_20250920.json ...\n",
      "Processing /Users/kang/4Ward/BI-Dashboard/raw_data/boxoffice/dailyBoxOffice_20250916.json ...\n",
      "Processing /Users/kang/4Ward/BI-Dashboard/raw_data/boxoffice/dailyBoxOffice_20250903.json ...\n",
      "Processing /Users/kang/4Ward/BI-Dashboard/raw_data/boxoffice/dailyBoxOffice_20250915.json ...\n",
      "Processing /Users/kang/4Ward/BI-Dashboard/raw_data/boxoffice/dailyBoxOffice_20250923.json ...\n",
      "Processing /Users/kang/4Ward/BI-Dashboard/raw_data/boxoffice/dailyBoxOffice_20250919.json ...\n",
      "Processing /Users/kang/4Ward/BI-Dashboard/raw_data/boxoffice/dailyBoxOffice_20250918.json ...\n",
      "Processing /Users/kang/4Ward/BI-Dashboard/raw_data/boxoffice/dailyBoxOffice_20250922.json ...\n",
      "Processing /Users/kang/4Ward/BI-Dashboard/raw_data/boxoffice/dailyBoxOffice_20250914.json ...\n",
      "Processing /Users/kang/4Ward/BI-Dashboard/raw_data/boxoffice/dailyBoxOffice_20250902.json ...\n",
      "Processing /Users/kang/4Ward/BI-Dashboard/raw_data/boxoffice/dailyBoxOffice_20250925.json ...\n",
      "Processing /Users/kang/4Ward/BI-Dashboard/raw_data/boxoffice/dailyBoxOffice_20250909.json ...\n",
      "Processing /Users/kang/4Ward/BI-Dashboard/raw_data/boxoffice/dailyBoxOffice_20250929.json ...\n",
      "Processing /Users/kang/4Ward/BI-Dashboard/raw_data/boxoffice/dailyBoxOffice_20250905.json ...\n",
      "Processing /Users/kang/4Ward/BI-Dashboard/raw_data/boxoffice/dailyBoxOffice_20250913.json ...\n",
      "Processing /Users/kang/4Ward/BI-Dashboard/raw_data/boxoffice/dailyBoxOffice_20250912.json ...\n",
      "Processing /Users/kang/4Ward/BI-Dashboard/raw_data/boxoffice/dailyBoxOffice_20250904.json ...\n",
      "Processing /Users/kang/4Ward/BI-Dashboard/raw_data/boxoffice/dailyBoxOffice_20250928.json ...\n",
      "Processing /Users/kang/4Ward/BI-Dashboard/raw_data/boxoffice/dailyBoxOffice_20250908.json ...\n",
      "Processing /Users/kang/4Ward/BI-Dashboard/raw_data/boxoffice/dailyBoxOffice_20250924.json ...\n",
      "All JSON files inserted successfully.\n"
     ]
    }
   ],
   "source": [
    "from pathlib import Path\n",
    "import json\n",
    "import glob\n",
    "\n",
    "PROJECT_DIR = Path.cwd().parent\n",
    "json_dir = PROJECT_DIR / 'raw_data/boxoffice'\n",
    "json_files = glob.glob(os.path.join(json_dir, 'dailyBoxOffice_*.json'))\n",
    "\n",
    "try:\n",
    "    conn = psycopg2.connect(\n",
    "        host=Postgre_HOST,\n",
    "        dbname=Postgre_DB,\n",
    "        user=Postgre_USER,\n",
    "        password=Postgre_PASSWORD\n",
    "    )\n",
    "    cursor = conn.cursor()\n",
    "\n",
    "    insert_sql = '''\n",
    "    INSERT INTO raw_data.boxoffice (\n",
    "        movieCd, showRange, rank, salesAmt, salesShare, salesInten,\n",
    "        salesChange, salesAcc, audiCnt, audiInten, audiChange,\n",
    "        audiAcc, scrnCnt, showCnt\n",
    "    ) VALUES (\n",
    "        %(movieCd)s, %(showRange)s, %(rank)s, %(salesAmt)s, %(salesShare)s, %(salesInten)s,\n",
    "        %(salesChange)s, %(salesAcc)s, %(audiCnt)s, %(audiInten)s, %(audiChange)s,\n",
    "        %(audiAcc)s, %(scrnCnt)s, %(showCnt)s\n",
    "    )\n",
    "    '''\n",
    "\n",
    "    for file in json_files:\n",
    "        print(f\"Processing {file} ...\")\n",
    "        with open(file, 'r', encoding='utf-8') as f:\n",
    "            for line in f:\n",
    "                data = json.loads(line.strip())\n",
    "                cursor.execute(insert_sql, data)\n",
    "\n",
    "    conn.commit()\n",
    "    print(\"All JSON files inserted successfully.\")\n",
    "\n",
    "except Exception as e:\n",
    "    print(\"Error:\", e)\n",
    "\n",
    "finally:\n",
    "    conn.close()"
   ]
  },
  {
   "cell_type": "markdown",
   "id": "d1ced863",
   "metadata": {},
   "source": [
    "#### raw_data 에 movie_info 테이블 만들고 json 밀어넣기"
   ]
  },
  {
   "cell_type": "code",
   "execution_count": 6,
   "id": "55b0bfc1",
   "metadata": {},
   "outputs": [
    {
     "name": "stdout",
     "output_type": "stream",
     "text": [
      "table create success\n"
     ]
    }
   ],
   "source": [
    "import psycopg2\n",
    "\n",
    "try:\n",
    "    conn = psycopg2.connect(host=Postgre_HOST, dbname=Postgre_DB, user=Postgre_USER, password=Postgre_PASSWORD)\n",
    "    cursor = conn.cursor()\n",
    "    cursor.execute(\"DROP TABLE IF EXISTS raw_data.movie_info\")\n",
    "\n",
    "    sql = '''\n",
    "    CREATE TABLE raw_data.movie_info (\n",
    "        movieCd     BIGINT,       -- 영화 코드, 숫자가 클 수 있음\n",
    "        movieNm     TEXT,         -- 영화 이름\n",
    "        openDt      DATE,         -- 개봉일, 'YYYY-MM-DD' 형식 문자열 사용 가능\n",
    "        genre       TEXT          -- 장르\n",
    "    );\n",
    "    '''\n",
    "\n",
    "    cursor.execute(sql)\n",
    "    print('table create success')\n",
    "    conn.commit()\n",
    "\n",
    "except Exception as e:\n",
    "    print(\"fail:\", e)\n",
    "\n",
    "finally:\n",
    "    conn.close()"
   ]
  },
  {
   "cell_type": "code",
   "execution_count": 7,
   "id": "f546b6e8",
   "metadata": {},
   "outputs": [
    {
     "name": "stdout",
     "output_type": "stream",
     "text": [
      "Processing /Users/kang/4Ward/BI-Dashboard/raw_data/movieInfo/movieInfo_20210546.json ...\n",
      "Processing /Users/kang/4Ward/BI-Dashboard/raw_data/movieInfo/movieInfo_20256202.json ...\n",
      "Processing /Users/kang/4Ward/BI-Dashboard/raw_data/movieInfo/movieInfo_20256701.json ...\n",
      "Processing /Users/kang/4Ward/BI-Dashboard/raw_data/movieInfo/movieInfo_20256185.json ...\n",
      "Processing /Users/kang/4Ward/BI-Dashboard/raw_data/movieInfo/movieInfo_20240206.json ...\n",
      "Processing /Users/kang/4Ward/BI-Dashboard/raw_data/movieInfo/movieInfo_20256281.json ...\n",
      "Processing /Users/kang/4Ward/BI-Dashboard/raw_data/movieInfo/movieInfo_20256757.json ...\n",
      "Processing /Users/kang/4Ward/BI-Dashboard/raw_data/movieInfo/movieInfo_20256741.json ...\n",
      "Processing /Users/kang/4Ward/BI-Dashboard/raw_data/movieInfo/movieInfo_20256864.json ...\n",
      "Processing /Users/kang/4Ward/BI-Dashboard/raw_data/movieInfo/movieInfo_20256034.json ...\n",
      "Processing /Users/kang/4Ward/BI-Dashboard/raw_data/movieInfo/movieInfo_20257229.json ...\n",
      "Processing /Users/kang/4Ward/BI-Dashboard/raw_data/movieInfo/movieInfo_20254501.json ...\n",
      "Processing /Users/kang/4Ward/BI-Dashboard/raw_data/movieInfo/movieInfo_20256526.json ...\n",
      "Processing /Users/kang/4Ward/BI-Dashboard/raw_data/movieInfo/movieInfo_20253289.json ...\n",
      "Processing /Users/kang/4Ward/BI-Dashboard/raw_data/movieInfo/movieInfo_19950366.json ...\n",
      "Processing /Users/kang/4Ward/BI-Dashboard/raw_data/movieInfo/movieInfo_20254275.json ...\n",
      "Processing /Users/kang/4Ward/BI-Dashboard/raw_data/movieInfo/movieInfo_20242964.json ...\n",
      "Processing /Users/kang/4Ward/BI-Dashboard/raw_data/movieInfo/movieInfo_20245055.json ...\n",
      "Processing /Users/kang/4Ward/BI-Dashboard/raw_data/movieInfo/movieInfo_20247245.json ...\n",
      "Processing /Users/kang/4Ward/BI-Dashboard/raw_data/movieInfo/movieInfo_20241941.json ...\n",
      "Processing /Users/kang/4Ward/BI-Dashboard/raw_data/movieInfo/movieInfo_20244606.json ...\n",
      "Processing /Users/kang/4Ward/BI-Dashboard/raw_data/movieInfo/movieInfo_20233039.json ...\n",
      "Processing /Users/kang/4Ward/BI-Dashboard/raw_data/movieInfo/movieInfo_20020328.json ...\n",
      "Processing /Users/kang/4Ward/BI-Dashboard/raw_data/movieInfo/movieInfo_20231024.json ...\n",
      "Processing /Users/kang/4Ward/BI-Dashboard/raw_data/movieInfo/movieInfo_20256071.json ...\n",
      "Processing /Users/kang/4Ward/BI-Dashboard/raw_data/movieInfo/movieInfo_20040590.json ...\n",
      "Processing /Users/kang/4Ward/BI-Dashboard/raw_data/movieInfo/movieInfo_20245485.json ...\n",
      "Processing /Users/kang/4Ward/BI-Dashboard/raw_data/movieInfo/movieInfo_20257586.json ...\n",
      "Processing /Users/kang/4Ward/BI-Dashboard/raw_data/movieInfo/movieInfo_20228988.json ...\n",
      "Processing /Users/kang/4Ward/BI-Dashboard/raw_data/movieInfo/movieInfo_20243864.json ...\n",
      "Processing /Users/kang/4Ward/BI-Dashboard/raw_data/movieInfo/movieInfo_20161872.json ...\n",
      "Processing /Users/kang/4Ward/BI-Dashboard/raw_data/movieInfo/movieInfo_20256702.json ...\n",
      "Processing /Users/kang/4Ward/BI-Dashboard/raw_data/movieInfo/movieInfo_20257095.json ...\n",
      "Processing /Users/kang/4Ward/BI-Dashboard/raw_data/movieInfo/movieInfo_20249072.json ...\n",
      "Processing /Users/kang/4Ward/BI-Dashboard/raw_data/movieInfo/movieInfo_20257083.json ...\n",
      "Processing /Users/kang/4Ward/BI-Dashboard/raw_data/movieInfo/movieInfo_20256962.json ...\n",
      "Processing /Users/kang/4Ward/BI-Dashboard/raw_data/movieInfo/movieInfo_20030047.json ...\n",
      "Processing /Users/kang/4Ward/BI-Dashboard/raw_data/movieInfo/movieInfo_20256149.json ...\n",
      "Processing /Users/kang/4Ward/BI-Dashboard/raw_data/movieInfo/movieInfo_20246333.json ...\n",
      "Processing /Users/kang/4Ward/BI-Dashboard/raw_data/movieInfo/movieInfo_20243561.json ...\n",
      "All JSON files inserted successfully.\n"
     ]
    }
   ],
   "source": [
    "from pathlib import Path\n",
    "import json\n",
    "import glob\n",
    "\n",
    "PROJECT_DIR = Path.cwd().parent\n",
    "json_dir = PROJECT_DIR / 'raw_data/movieInfo'\n",
    "json_files = glob.glob(os.path.join(json_dir, 'movieInfo_*.json'))\n",
    "\n",
    "try:\n",
    "    conn = psycopg2.connect(\n",
    "        host=Postgre_HOST,\n",
    "        dbname=Postgre_DB,\n",
    "        user=Postgre_USER,\n",
    "        password=Postgre_PASSWORD\n",
    "    )\n",
    "    cursor = conn.cursor()\n",
    "\n",
    "    insert_sql = '''\n",
    "    INSERT INTO raw_data.movie_info (\n",
    "        movieCd, movieNm, openDt, genre\n",
    "    ) VALUES (\n",
    "        %(movieCd)s, %(movieNm)s, %(openDt)s, %(genre)s\n",
    "    )\n",
    "    '''\n",
    "\n",
    "    for file in json_files:\n",
    "        print(f\"Processing {file} ...\")\n",
    "        with open(file, 'r', encoding='utf-8') as f:\n",
    "            for line in f:\n",
    "                data = json.loads(line.strip())\n",
    "                cursor.execute(insert_sql, data)\n",
    "\n",
    "    conn.commit()\n",
    "    print(\"All JSON files inserted successfully.\")\n",
    "\n",
    "except Exception as e:\n",
    "    print(\"Error:\", e)\n",
    "\n",
    "finally:\n",
    "    conn.close()"
   ]
  },
  {
   "cell_type": "markdown",
   "id": "e24f2a4c",
   "metadata": {},
   "source": [
    "### adhoc 에 daily_sum 테이블 생성"
   ]
  },
  {
   "cell_type": "code",
   "execution_count": 8,
   "id": "b2c74ce1",
   "metadata": {},
   "outputs": [
    {
     "name": "stdout",
     "output_type": "stream",
     "text": [
      "daily_sum table create success\n",
      "Connection closed.\n"
     ]
    }
   ],
   "source": [
    "import psycopg2\n",
    "\n",
    "try:\n",
    "    conn = psycopg2.connect(\n",
    "        host=Postgre_HOST,\n",
    "        dbname=Postgre_DB,\n",
    "        user=Postgre_USER,\n",
    "        password=Postgre_PASSWORD\n",
    "    )\n",
    "    cursor = conn.cursor()\n",
    "\n",
    "    sql_drop = \"DROP TABLE IF EXISTS adhoc.daily_sum;\"\n",
    "    cursor.execute(sql_drop)\n",
    "\n",
    "    sql_create = '''\n",
    "    CREATE TABLE adhoc.daily_sum AS\n",
    "    SELECT \n",
    "        b.showrange,\n",
    "        CASE \n",
    "            WHEN EXTRACT(DOW FROM b.showrange::DATE) = 0 THEN '일'\n",
    "            WHEN EXTRACT(DOW FROM b.showrange::DATE) = 1 THEN '월'\n",
    "            WHEN EXTRACT(DOW FROM b.showrange::DATE) = 2 THEN '화'\n",
    "            WHEN EXTRACT(DOW FROM b.showrange::DATE) = 3 THEN '수'\n",
    "            WHEN EXTRACT(DOW FROM b.showrange::DATE) = 4 THEN '목'\n",
    "            WHEN EXTRACT(DOW FROM b.showrange::DATE) = 5 THEN '금'\n",
    "            WHEN EXTRACT(DOW FROM b.showrange::DATE) = 6 THEN '토'\n",
    "            ELSE '오류'\n",
    "        END AS dayofweek_ko,\n",
    "        SUM(b.salesamt) AS totalSalesAmt,\n",
    "        SUM(b.audicnt) AS totalAudiCnt\n",
    "    FROM raw_data.boxoffice AS b\n",
    "    GROUP BY b.showrange\n",
    "    ORDER BY b.showrange;\n",
    "    '''\n",
    "    cursor.execute(sql_create)\n",
    "\n",
    "    sql_alter = \"ALTER TABLE adhoc.daily_sum ADD COLUMN dayofweek_order INT;\"\n",
    "    cursor.execute(sql_alter)\n",
    "\n",
    "    sql_update = '''\n",
    "    UPDATE adhoc.daily_sum\n",
    "    SET dayofweek_order = CASE dayofweek_ko\n",
    "    WHEN '월' THEN 1\n",
    "    WHEN '화' THEN 2\n",
    "    WHEN '수' THEN 3\n",
    "    WHEN '목' THEN 4\n",
    "    WHEN '금' THEN 5\n",
    "    WHEN '토' THEN 6\n",
    "    WHEN '일' THEN 7\n",
    "    END;\n",
    "    '''\n",
    "    cursor.execute(sql_update)\n",
    "\n",
    "    conn.commit()\n",
    "    print(\"daily_sum table create success\")\n",
    "\n",
    "except Exception as e:\n",
    "    print(\"Error:\", e)\n",
    "\n",
    "finally:\n",
    "    if 'conn' in locals() and conn:\n",
    "        conn.close()\n",
    "        print(\"Connection closed.\")"
   ]
  },
  {
   "cell_type": "markdown",
   "id": "60952b2a",
   "metadata": {},
   "source": [
    "### adhoc 에 daily_rank 테이블 생성"
   ]
  },
  {
   "cell_type": "code",
   "execution_count": 9,
   "id": "ead4e128",
   "metadata": {},
   "outputs": [
    {
     "name": "stdout",
     "output_type": "stream",
     "text": [
      "daily_rank table create success\n",
      "Connection closed.\n"
     ]
    }
   ],
   "source": [
    "import psycopg2\n",
    "\n",
    "try:\n",
    "    conn = psycopg2.connect(\n",
    "        host=Postgre_HOST,\n",
    "        dbname=Postgre_DB,\n",
    "        user=Postgre_USER,\n",
    "        password=Postgre_PASSWORD\n",
    "    )\n",
    "    cursor = conn.cursor()\n",
    "\n",
    "    sql_drop = \"DROP TABLE IF EXISTS adhoc.daily_rank;\"\n",
    "    cursor.execute(sql_drop)\n",
    "\n",
    "    sql_create = '''\n",
    "    CREATE TABLE adhoc.daily_rank AS\n",
    "    SELECT\n",
    "    b.showrange,\n",
    "    b.rank,\n",
    "    (11 - b.rank) AS reverse_rank,\n",
    "    b.movieCd,\n",
    "    m.movieNm\n",
    "    FROM raw_data.boxoffice AS b\n",
    "    JOIN raw_data.movie_info AS m ON b.movieCd = m.movieCd\n",
    "    JOIN (\n",
    "    SELECT\n",
    "        movieCd\n",
    "        ,SUM(audiCnt) as sumAudiCnt  -- 9월 관객수 합\n",
    "    FROM raw_data.boxoffice\n",
    "    GROUP BY movieCd\n",
    "    ORDER BY sumAudiCnt DESC\n",
    "    LIMIT 10\n",
    "    ) AS t ON b.movieCd = t.movieCd;\n",
    "    '''\n",
    "    cursor.execute(sql_create)\n",
    "\n",
    "    conn.commit()\n",
    "    print(\"daily_rank table create success\")\n",
    "\n",
    "except Exception as e:\n",
    "    print(\"Error:\", e)\n",
    "\n",
    "finally:\n",
    "    if 'conn' in locals() and conn:\n",
    "        conn.close()\n",
    "        print(\"Connection closed.\")"
   ]
  }
 ],
 "metadata": {
  "kernelspec": {
   "display_name": ".venv",
   "language": "python",
   "name": "python3"
  },
  "language_info": {
   "codemirror_mode": {
    "name": "ipython",
    "version": 3
   },
   "file_extension": ".py",
   "mimetype": "text/x-python",
   "name": "python",
   "nbconvert_exporter": "python",
   "pygments_lexer": "ipython3",
   "version": "3.13.7"
  }
 },
 "nbformat": 4,
 "nbformat_minor": 5
}

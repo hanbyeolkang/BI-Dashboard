{
 "cells": [
  {
   "cell_type": "markdown",
   "id": "5728c531",
   "metadata": {},
   "source": [
    "#### 모듈 설치"
   ]
  },
  {
   "cell_type": "code",
   "execution_count": null,
   "id": "ab347285",
   "metadata": {},
   "outputs": [],
   "source": [
    "%pip install python-dotenv requests boto3 psycopg2-binary"
   ]
  },
  {
   "cell_type": "markdown",
   "id": "2d97b87b",
   "metadata": {},
   "source": [
    "#### 환경변수 로드 및 저장할 폴더 준비"
   ]
  },
  {
   "cell_type": "code",
   "execution_count": 1,
   "id": "780ba8bb",
   "metadata": {},
   "outputs": [],
   "source": [
    "import os\n",
    "from dotenv import load_dotenv\n",
    "from pathlib import Path\n",
    "\n",
    "# 환경 변수 로드\n",
    "load_dotenv()\n",
    "\n",
    "API_KEY = os.getenv(\"KOBIS_API_KEY\")\n",
    "\n",
    "AWS_ACCESS_KEY_ID = os.getenv(\"AWS_ACCESS_KEY_ID\")\n",
    "AWS_SECRET_ACCESS_KEY = os.getenv(\"AWS_SECRET_ACCESS_KEY\")\n",
    "AWS_REGION = os.getenv(\"AWS_REGION\")\n",
    "S3_BUCKET_NAME = os.getenv(\"S3_BUCKET_NAME\")\n",
    "\n",
    "REDSHIFT_HOST = os.getenv(\"REDSHIFT_HOST\")\n",
    "REDSHIFT_PORT = os.getenv(\"REDSHIFT_PORT\")\n",
    "REDSHIFT_DB = os.getenv(\"REDSHIFT_DB\")\n",
    "REDSHIFT_USER = os.getenv(\"REDSHIFT_USER\")\n",
    "REDSHIFT_PASSWORD = os.getenv(\"REDSHIFT_PASSWORD\")\n",
    "IAM_ROLE_ARN = os.getenv(\"IAM_ROLE_ARN\")\n",
    "\n",
    "# 저장할 폴더 준비\n",
    "project_folder = project_folder = Path.cwd().parent\n",
    "raw_data_dir = project_folder / \"raw_data\" / \"boxoffice\"    # 일별 박스오피스\n",
    "raw_data_dir.mkdir(exist_ok=True)"
   ]
  },
  {
   "cell_type": "markdown",
   "id": "6a9f25ac",
   "metadata": {},
   "source": [
    "#### 데이터 수집"
   ]
  },
  {
   "cell_type": "code",
   "execution_count": null,
   "id": "a12decb4",
   "metadata": {},
   "outputs": [
    {
     "name": "stdout",
     "output_type": "stream",
     "text": [
      "20250901 저장 완료 (JSON Lines 형식)\n",
      "20250902 저장 완료 (JSON Lines 형식)\n",
      "20250903 데이터 수집 실패: HTTPConnectionPool(host='kobis.or.kr', port=80): Read timed out. (read timeout=10)\n",
      "20250904 데이터 수집 실패: HTTPConnectionPool(host='kobis.or.kr', port=80): Read timed out. (read timeout=10)\n",
      "20250905 저장 완료 (JSON Lines 형식)\n",
      "20250906 저장 완료 (JSON Lines 형식)\n",
      "20250907 저장 완료 (JSON Lines 형식)\n",
      "20250908 저장 완료 (JSON Lines 형식)\n",
      "20250909 저장 완료 (JSON Lines 형식)\n",
      "20250910 저장 완료 (JSON Lines 형식)\n",
      "20250911 저장 완료 (JSON Lines 형식)\n",
      "20250912 저장 완료 (JSON Lines 형식)\n",
      "20250913 저장 완료 (JSON Lines 형식)\n",
      "20250914 저장 완료 (JSON Lines 형식)\n",
      "20250915 저장 완료 (JSON Lines 형식)\n",
      "20250916 저장 완료 (JSON Lines 형식)\n",
      "20250917 저장 완료 (JSON Lines 형식)\n",
      "20250918 저장 완료 (JSON Lines 형식)\n",
      "20250919 저장 완료 (JSON Lines 형식)\n",
      "20250920 저장 완료 (JSON Lines 형식)\n",
      "20250921 저장 완료 (JSON Lines 형식)\n",
      "20250922 저장 완료 (JSON Lines 형식)\n",
      "20250923 저장 완료 (JSON Lines 형식)\n",
      "20250924 저장 완료 (JSON Lines 형식)\n",
      "20250925 저장 완료 (JSON Lines 형식)\n",
      "20250926 저장 완료 (JSON Lines 형식)\n",
      "20250927 저장 완료 (JSON Lines 형식)\n",
      "20250928 데이터 수집 실패: HTTPConnectionPool(host='kobis.or.kr', port=80): Read timed out. (read timeout=10)\n",
      "20250929 저장 완료 (JSON Lines 형식)\n",
      "20250930 저장 완료 (JSON Lines 형식)\n"
     ]
    }
   ],
   "source": [
    "import requests\n",
    "from datetime import datetime, timedelta\n",
    "import json\n",
    "\n",
    "# 데이터 수집\n",
    "base_url = \"http://kobis.or.kr/kobisopenapi/webservice/rest/boxoffice/searchDailyBoxOfficeList.json\"    # 일별 박스오피스\n",
    "\n",
    "for i in range(30):\n",
    "    target_date = (datetime(2025, 9, 1) + timedelta(days=i)).strftime(\"%Y%m%d\")\n",
    "    params = {\"key\": API_KEY, \"targetDt\": target_date}\n",
    "\n",
    "    try:\n",
    "        res = requests.get(base_url, params=params, timeout=10)\n",
    "        res.raise_for_status()\n",
    "        data = res.json()\n",
    "\n",
    "        showRange = data[\"boxOfficeResult\"][\"showRange\"].split(\"~\")[0]\n",
    "        dailyBoxOfficeList = data[\"boxOfficeResult\"][\"dailyBoxOfficeList\"]\n",
    "\n",
    "        file_path = raw_data_dir / f\"dailyBoxOffice_{target_date}.json\"\n",
    "\n",
    "        with open(file_path, \"w\", encoding=\"utf-8\") as f:\n",
    "            for movie in dailyBoxOfficeList:\n",
    "                # Redshift 테이블 스키마에 맞게 데이터 타입 변환 및 가공\n",
    "                movie_data = {\n",
    "                    \"movieCd\": int(movie[\"movieCd\"]),\n",
    "                    \"showRange\": datetime.strptime(showRange, \"%Y%m%d\").strftime(\"%Y-%m-%d\"),\n",
    "                    \"rank\": int(movie[\"rank\"]),\n",
    "                    \"salesAmt\": int(movie[\"salesAmt\"]),\n",
    "                    \"salesShare\": float(movie[\"salesShare\"]),\n",
    "                    \"salesInten\": int(movie[\"salesInten\"]),\n",
    "                    \"salesChange\": float(movie[\"salesChange\"]),\n",
    "                    \"salesAcc\": int(movie[\"salesAcc\"]),\n",
    "                    \"audiCnt\": int(movie[\"audiCnt\"]),\n",
    "                    \"audiInten\": int(movie[\"audiInten\"]),\n",
    "                    \"audiChange\": float(movie[\"audiChange\"]),\n",
    "                    \"audiAcc\": int(movie[\"audiAcc\"]),\n",
    "                    \"scrnCnt\": int(movie[\"scrnCnt\"]),\n",
    "                    \"showCnt\": int(movie[\"showCnt\"])\n",
    "                }\n",
    "                \n",
    "                json_line = json.dumps(movie_data, ensure_ascii=False)\n",
    "                f.write(json_line + '\\n') \n",
    "\n",
    "        print(f\"{target_date} 저장 완료 (JSON Lines 형식)\")\n",
    "\n",
    "    except Exception as e:\n",
    "        print(f\"{target_date} 데이터 수집 실패: {e}\")"
   ]
  },
  {
   "cell_type": "markdown",
   "id": "1b9e60ff",
   "metadata": {},
   "source": [
    "#### 실패한 데이터 다시 추출"
   ]
  },
  {
   "cell_type": "code",
   "execution_count": 4,
   "id": "bfc4b0c7",
   "metadata": {},
   "outputs": [
    {
     "name": "stdout",
     "output_type": "stream",
     "text": [
      "20250903 저장 완료 (JSON Lines 형식)\n",
      "20250904 저장 완료 (JSON Lines 형식)\n",
      "20250928 저장 완료 (JSON Lines 형식)\n"
     ]
    }
   ],
   "source": [
    "import requests\n",
    "from datetime import datetime, timedelta\n",
    "import json\n",
    "\n",
    "# 데이터 수집\n",
    "base_url = \"http://kobis.or.kr/kobisopenapi/webservice/rest/boxoffice/searchDailyBoxOfficeList.json\"\n",
    "\n",
    "for i in [3, 4, 28]:\n",
    "    target_date = (datetime(2025, 9, i)).strftime(\"%Y%m%d\")\n",
    "    params = {\"key\": API_KEY, \"targetDt\": target_date}\n",
    "\n",
    "    try:\n",
    "        res = requests.get(base_url, params=params, timeout=10)\n",
    "        res.raise_for_status()\n",
    "        data = res.json()\n",
    "\n",
    "        showRange = data[\"boxOfficeResult\"][\"showRange\"].split(\"~\")[0]\n",
    "        dailyBoxOfficeList = data[\"boxOfficeResult\"][\"dailyBoxOfficeList\"]\n",
    "\n",
    "        file_path = raw_data_dir / f\"dailyBoxOffice_{target_date}.json\"\n",
    "\n",
    "        with open(file_path, \"w\", encoding=\"utf-8\") as f:\n",
    "            for movie in dailyBoxOfficeList:\n",
    "                # Redshift 테이블 스키마에 맞게 데이터 타입 변환 및 가공\n",
    "                movie_data = {\n",
    "                    \"movieCd\": int(movie[\"movieCd\"]),\n",
    "                    \"showRange\": datetime.strptime(showRange, \"%Y%m%d\").strftime(\"%Y-%m-%d\"),\n",
    "                    \"rank\": int(movie[\"rank\"]),\n",
    "                    \"salesAmt\": int(movie[\"salesAmt\"]),\n",
    "                    \"salesShare\": float(movie[\"salesShare\"]),\n",
    "                    \"salesInten\": int(movie[\"salesInten\"]),\n",
    "                    \"salesChange\": float(movie[\"salesChange\"]),\n",
    "                    \"salesAcc\": int(movie[\"salesAcc\"]),\n",
    "                    \"audiCnt\": int(movie[\"audiCnt\"]),\n",
    "                    \"audiInten\": int(movie[\"audiInten\"]),\n",
    "                    \"audiChange\": float(movie[\"audiChange\"]),\n",
    "                    \"audiAcc\": int(movie[\"audiAcc\"]),\n",
    "                    \"scrnCnt\": int(movie[\"scrnCnt\"]),\n",
    "                    \"showCnt\": int(movie[\"showCnt\"])\n",
    "                }\n",
    "                \n",
    "                json_line = json.dumps(movie_data, ensure_ascii=False)\n",
    "                f.write(json_line + '\\n') \n",
    "\n",
    "        print(f\"{target_date} 저장 완료 (JSON Lines 형식)\")\n",
    "\n",
    "    except Exception as e:\n",
    "        print(f\"{target_date} 데이터 수집 실패: {e}\")"
   ]
  },
  {
   "cell_type": "markdown",
   "id": "ef320a58",
   "metadata": {},
   "source": [
    "#### S3 에 업로드"
   ]
  },
  {
   "cell_type": "code",
   "execution_count": 5,
   "id": "c490c1ea",
   "metadata": {},
   "outputs": [
    {
     "name": "stdout",
     "output_type": "stream",
     "text": [
      "/Users/kang/Team4_4Ward/BI-Dashboard/raw_data/boxoffice\n"
     ]
    }
   ],
   "source": [
    "print(raw_data_dir)"
   ]
  },
  {
   "cell_type": "code",
   "execution_count": 4,
   "id": "754f95ea",
   "metadata": {},
   "outputs": [
    {
     "name": "stdout",
     "output_type": "stream",
     "text": [
      "[success] S3 업로드 완료: raw_data/boxoffice/dailyBoxOffice_20250927.json\n",
      "[success] S3 업로드 완료: raw_data/boxoffice/dailyBoxOffice_20250911.json\n",
      "[success] S3 업로드 완료: raw_data/boxoffice/dailyBoxOffice_20250907.json\n",
      "[success] S3 업로드 완료: raw_data/boxoffice/dailyBoxOffice_20250906.json\n",
      "[success] S3 업로드 완료: raw_data/boxoffice/dailyBoxOffice_20250910.json\n",
      "[success] S3 업로드 완료: raw_data/boxoffice/dailyBoxOffice_20250930.json\n",
      "[success] S3 업로드 완료: raw_data/boxoffice/dailyBoxOffice_20250926.json\n",
      "[success] S3 업로드 완료: raw_data/boxoffice/dailyBoxOffice_20250917.json\n",
      "[success] S3 업로드 완료: raw_data/boxoffice/dailyBoxOffice_20250901.json\n",
      "[success] S3 업로드 완료: raw_data/boxoffice/dailyBoxOffice_20250921.json\n",
      "[success] S3 업로드 완료: raw_data/boxoffice/dailyBoxOffice_20250920.json\n",
      "[success] S3 업로드 완료: raw_data/boxoffice/dailyBoxOffice_20250916.json\n",
      "[success] S3 업로드 완료: raw_data/boxoffice/dailyBoxOffice_20250903.json\n",
      "[success] S3 업로드 완료: raw_data/boxoffice/dailyBoxOffice_20250915.json\n",
      "[success] S3 업로드 완료: raw_data/boxoffice/dailyBoxOffice_20250923.json\n",
      "[success] S3 업로드 완료: raw_data/boxoffice/dailyBoxOffice_20250919.json\n",
      "[success] S3 업로드 완료: raw_data/boxoffice/dailyBoxOffice_20250918.json\n",
      "[success] S3 업로드 완료: raw_data/boxoffice/dailyBoxOffice_20250922.json\n",
      "[success] S3 업로드 완료: raw_data/boxoffice/dailyBoxOffice_20250914.json\n",
      "[success] S3 업로드 완료: raw_data/boxoffice/dailyBoxOffice_20250902.json\n",
      "[success] S3 업로드 완료: raw_data/boxoffice/dailyBoxOffice_20250925.json\n",
      "[success] S3 업로드 완료: raw_data/boxoffice/dailyBoxOffice_20250909.json\n",
      "[success] S3 업로드 완료: raw_data/boxoffice/dailyBoxOffice_20250929.json\n",
      "[success] S3 업로드 완료: raw_data/boxoffice/dailyBoxOffice_20250905.json\n",
      "[success] S3 업로드 완료: raw_data/boxoffice/dailyBoxOffice_20250913.json\n",
      "[success] S3 업로드 완료: raw_data/boxoffice/dailyBoxOffice_20250912.json\n",
      "[success] S3 업로드 완료: raw_data/boxoffice/dailyBoxOffice_20250904.json\n",
      "[success] S3 업로드 완료: raw_data/boxoffice/dailyBoxOffice_20250928.json\n",
      "[success] S3 업로드 완료: raw_data/boxoffice/dailyBoxOffice_20250908.json\n",
      "[success] S3 업로드 완료: raw_data/boxoffice/dailyBoxOffice_20250924.json\n"
     ]
    }
   ],
   "source": [
    "import boto3\n",
    "\n",
    "# S3 업로드\n",
    "if any(raw_data_dir.glob(\"*.json\")):\n",
    "    s3 = boto3.client(\n",
    "        \"s3\",\n",
    "        aws_access_key_id=AWS_ACCESS_KEY_ID,\n",
    "        aws_secret_access_key=AWS_SECRET_ACCESS_KEY,\n",
    "        region_name=AWS_REGION\n",
    "    )\n",
    "\n",
    "    for file in raw_data_dir.glob(\"dailyBoxOffice_*.json\"):\n",
    "        file_name = f\"raw_data/boxoffice/{file.name}\"\n",
    "        try:\n",
    "            s3.upload_file(str(file), S3_BUCKET_NAME, file_name)\n",
    "            print(f\"[success] S3 업로드 완료: {file_name}\")\n",
    "        except Exception as e:\n",
    "            print(f\"[fail] S3 업로드 실패 ({file_name}): {e}\")\n",
    "else:\n",
    "    print(\"[error] 업로드할 파일이 없습니다.\")"
   ]
  }
 ],
 "metadata": {
  "kernelspec": {
   "display_name": ".venv",
   "language": "python",
   "name": "python3"
  },
  "language_info": {
   "codemirror_mode": {
    "name": "ipython",
    "version": 3
   },
   "file_extension": ".py",
   "mimetype": "text/x-python",
   "name": "python",
   "nbconvert_exporter": "python",
   "pygments_lexer": "ipython3",
   "version": "3.13.7"
  }
 },
 "nbformat": 4,
 "nbformat_minor": 5
}
